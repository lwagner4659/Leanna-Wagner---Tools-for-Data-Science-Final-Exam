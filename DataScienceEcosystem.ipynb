{
  "metadata": {
    "language_info": {
      "codemirror_mode": {
        "name": "python",
        "version": 3
      },
      "file_extension": ".py",
      "mimetype": "text/x-python",
      "name": "python",
      "nbconvert_exporter": "python",
      "pygments_lexer": "ipython3",
      "version": "3.8"
    },
    "kernelspec": {
      "name": "python",
      "display_name": "Python (Pyodide)",
      "language": "python"
    }
  },
  "nbformat_minor": 4,
  "nbformat": 4,
  "cells": [
    {
      "cell_type": "markdown",
      "source": "## Author: Leanna Wagner",
      "metadata": {}
    },
    {
      "cell_type": "markdown",
      "source": "# Data Science Tools and Ecosystem",
      "metadata": {}
    },
    {
      "cell_type": "markdown",
      "source": "## *In this notebook, Data Science Tools and Ecosystem are summarized.*",
      "metadata": {}
    },
    {
      "cell_type": "markdown",
      "source": "##### **Objectives:**\n\n+ List some of the popular Data Science Lanuguage\n+ List some of the commonly used Data Science Libaries\n+ List sof to tools used in Data Science",
      "metadata": {}
    },
    {
      "cell_type": "markdown",
      "source": "## **Some of the popular Data Science Languages are:**\n\n  1. Python\n1. R\n1. SQL\n1. Scala\n1. Java\n1. C++\n1. Julia\n1. Javascript\n1. PHP\n1. Visual Basic \n",
      "metadata": {}
    },
    {
      "cell_type": "markdown",
      "source": "## **Some of the commonly used Data Science Libraries are:**\n\n1. NumPy\n1. Pandas\n1. Matpoltlib\n1. Seaborn\n1. Scikit-learn\n1. PyTorch\n\n",
      "metadata": {}
    },
    {
      "cell_type": "markdown",
      "source": "## **There is an exhaustive List of Data Science Tools**\n###  *Below are a few examples:*\n\n|Data Science Tools|\n|------------------|\n|MySQL|\n|hadoop|\n|Apache SparkSQL|\n|KubeFlow|\n|GitHub|\n|Bitbucket|",
      "metadata": {}
    },
    {
      "cell_type": "markdown",
      "source": "### Below are a few examples of evaluating arithmetic expressions in Python",
      "metadata": {}
    },
    {
      "cell_type": "code",
      "source": "# Arithmetic expressions to mutiply the add integers\n\na=3\nb=4\nc=5\n\n(a*b)+c",
      "metadata": {
        "trusted": true
      },
      "execution_count": 1,
      "outputs": [
        {
          "execution_count": 1,
          "output_type": "execute_result",
          "data": {
            "text/plain": "17"
          },
          "metadata": {}
        }
      ]
    },
    {
      "cell_type": "code",
      "source": "# This will convert 200 minutes to hours by diving by 60\n\nminutes = 200\n\nhours = minutes / 60\n\nprint(\"hours =\", hours)\n",
      "metadata": {
        "trusted": true
      },
      "execution_count": 2,
      "outputs": [
        {
          "name": "stdout",
          "text": "hours = 3.3333333333333335\n",
          "output_type": "stream"
        }
      ]
    },
    {
      "cell_type": "markdown",
      "source": "",
      "metadata": {}
    },
    {
      "cell_type": "code",
      "source": "",
      "metadata": {},
      "execution_count": null,
      "outputs": []
    }
  ]
}